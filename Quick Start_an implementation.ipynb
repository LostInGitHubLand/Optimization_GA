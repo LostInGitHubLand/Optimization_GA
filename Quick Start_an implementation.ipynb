{
 "cells": [
  {
   "cell_type": "markdown",
   "metadata": {},
   "source": [
    "# Quick start: an implementation"
   ]
  },
  {
   "cell_type": "code",
   "execution_count": 1,
   "metadata": {},
   "outputs": [],
   "source": [
    "import pygad\n",
    "import openpyxl\n",
    "import csv\n",
    "import pandas as pd\n",
    "import numpy as np"
   ]
  },
  {
   "cell_type": "markdown",
   "metadata": {},
   "source": [
    "## Knapsack Problem with Genetic algorithms approach"
   ]
  },
  {
   "cell_type": "markdown",
   "metadata": {},
   "source": [
    "To work better with the data we convert the file to csv"
   ]
  },
  {
   "cell_type": "code",
   "execution_count": 2,
   "metadata": {},
   "outputs": [
    {
     "data": {
      "text/plain": [
       "'\\n# Launch only first time to generate a csv from an .xlsx file\\nob = csv.writer(open(\"productsNEW.csv\",\\'w\\', newline = \"\"))\\ndata = openpyxl.load_workbook(\\'products.xlsx\\').active\\nfor r in data.rows:\\n    row = [a.value for a in r]\\n    ob.writerow(row)\\n'"
      ]
     },
     "execution_count": 2,
     "metadata": {},
     "output_type": "execute_result"
    }
   ],
   "source": [
    "\"\"\"\n",
    "# Launch only first time to generate a csv from an .xlsx file\n",
    "ob = csv.writer(open(\"productsNEW.csv\",'w', newline = \"\"))\n",
    "data = openpyxl.load_workbook('products.xlsx').active\n",
    "for r in data.rows:\n",
    "    row = [a.value for a in r]\n",
    "    ob.writerow(row)\n",
    "\"\"\""
   ]
  },
  {
   "cell_type": "markdown",
   "metadata": {},
   "source": [
    "Exploring dataset"
   ]
  },
  {
   "cell_type": "code",
   "execution_count": 3,
   "metadata": {},
   "outputs": [
    {
     "data": {
      "text/html": [
       "<div>\n",
       "<style scoped>\n",
       "    .dataframe tbody tr th:only-of-type {\n",
       "        vertical-align: middle;\n",
       "    }\n",
       "\n",
       "    .dataframe tbody tr th {\n",
       "        vertical-align: top;\n",
       "    }\n",
       "\n",
       "    .dataframe thead th {\n",
       "        text-align: right;\n",
       "    }\n",
       "</style>\n",
       "<table border=\"1\" class=\"dataframe\">\n",
       "  <thead>\n",
       "    <tr style=\"text-align: right;\">\n",
       "      <th></th>\n",
       "      <th>Product</th>\n",
       "      <th>Space</th>\n",
       "      <th>Price</th>\n",
       "      <th>Quantity</th>\n",
       "    </tr>\n",
       "  </thead>\n",
       "  <tbody>\n",
       "    <tr>\n",
       "      <th>0</th>\n",
       "      <td>Refrigerator A</td>\n",
       "      <td>0.751000</td>\n",
       "      <td>999.90</td>\n",
       "      <td>3</td>\n",
       "    </tr>\n",
       "    <tr>\n",
       "      <th>1</th>\n",
       "      <td>Cell phone</td>\n",
       "      <td>0.000009</td>\n",
       "      <td>2199.12</td>\n",
       "      <td>2</td>\n",
       "    </tr>\n",
       "    <tr>\n",
       "      <th>2</th>\n",
       "      <td>TV 55</td>\n",
       "      <td>0.400000</td>\n",
       "      <td>4346.99</td>\n",
       "      <td>5</td>\n",
       "    </tr>\n",
       "    <tr>\n",
       "      <th>3</th>\n",
       "      <td>TV 50</td>\n",
       "      <td>0.290000</td>\n",
       "      <td>3999.90</td>\n",
       "      <td>5</td>\n",
       "    </tr>\n",
       "    <tr>\n",
       "      <th>4</th>\n",
       "      <td>TV 42</td>\n",
       "      <td>0.200000</td>\n",
       "      <td>2999.00</td>\n",
       "      <td>5</td>\n",
       "    </tr>\n",
       "    <tr>\n",
       "      <th>5</th>\n",
       "      <td>Notebook A</td>\n",
       "      <td>0.003500</td>\n",
       "      <td>2499.90</td>\n",
       "      <td>4</td>\n",
       "    </tr>\n",
       "    <tr>\n",
       "      <th>6</th>\n",
       "      <td>Ventilator</td>\n",
       "      <td>0.496000</td>\n",
       "      <td>199.90</td>\n",
       "      <td>12</td>\n",
       "    </tr>\n",
       "    <tr>\n",
       "      <th>7</th>\n",
       "      <td>Microwave A</td>\n",
       "      <td>0.042400</td>\n",
       "      <td>308.66</td>\n",
       "      <td>7</td>\n",
       "    </tr>\n",
       "    <tr>\n",
       "      <th>8</th>\n",
       "      <td>Microwave B</td>\n",
       "      <td>0.054400</td>\n",
       "      <td>429.90</td>\n",
       "      <td>7</td>\n",
       "    </tr>\n",
       "    <tr>\n",
       "      <th>9</th>\n",
       "      <td>Microwave C</td>\n",
       "      <td>0.031900</td>\n",
       "      <td>299.29</td>\n",
       "      <td>9</td>\n",
       "    </tr>\n",
       "    <tr>\n",
       "      <th>10</th>\n",
       "      <td>Refrigerator B</td>\n",
       "      <td>0.635000</td>\n",
       "      <td>849.00</td>\n",
       "      <td>4</td>\n",
       "    </tr>\n",
       "    <tr>\n",
       "      <th>11</th>\n",
       "      <td>Refrigerator C</td>\n",
       "      <td>0.870000</td>\n",
       "      <td>1199.89</td>\n",
       "      <td>2</td>\n",
       "    </tr>\n",
       "    <tr>\n",
       "      <th>12</th>\n",
       "      <td>Notebook B</td>\n",
       "      <td>0.498000</td>\n",
       "      <td>1999.00</td>\n",
       "      <td>6</td>\n",
       "    </tr>\n",
       "    <tr>\n",
       "      <th>13</th>\n",
       "      <td>Notebook C</td>\n",
       "      <td>0.527000</td>\n",
       "      <td>3999.00</td>\n",
       "      <td>6</td>\n",
       "    </tr>\n",
       "  </tbody>\n",
       "</table>\n",
       "</div>"
      ],
      "text/plain": [
       "           Product     Space    Price  Quantity\n",
       "0   Refrigerator A  0.751000   999.90         3\n",
       "1       Cell phone  0.000009  2199.12         2\n",
       "2            TV 55  0.400000  4346.99         5\n",
       "3            TV 50  0.290000  3999.90         5\n",
       "4            TV 42  0.200000  2999.00         5\n",
       "5       Notebook A  0.003500  2499.90         4\n",
       "6       Ventilator  0.496000   199.90        12\n",
       "7      Microwave A  0.042400   308.66         7\n",
       "8      Microwave B  0.054400   429.90         7\n",
       "9      Microwave C  0.031900   299.29         9\n",
       "10  Refrigerator B  0.635000   849.00         4\n",
       "11  Refrigerator C  0.870000  1199.89         2\n",
       "12      Notebook B  0.498000  1999.00         6\n",
       "13      Notebook C  0.527000  3999.00         6"
      ]
     },
     "execution_count": 3,
     "metadata": {},
     "output_type": "execute_result"
    }
   ],
   "source": [
    "data = pd.read_csv('productsNEW.csv')\n",
    "data"
   ]
  },
  {
   "cell_type": "code",
   "execution_count": 4,
   "metadata": {},
   "outputs": [
    {
     "name": "stdout",
     "output_type": "stream",
     "text": [
      "<class 'pandas.core.frame.DataFrame'>\n",
      "RangeIndex: 14 entries, 0 to 13\n",
      "Data columns (total 4 columns):\n",
      " #   Column    Non-Null Count  Dtype  \n",
      "---  ------    --------------  -----  \n",
      " 0   Product   14 non-null     object \n",
      " 1   Space     14 non-null     float64\n",
      " 2   Price     14 non-null     float64\n",
      " 3   Quantity  14 non-null     int64  \n",
      "dtypes: float64(2), int64(1), object(1)\n",
      "memory usage: 576.0+ bytes\n"
     ]
    }
   ],
   "source": [
    "data.info()"
   ]
  },
  {
   "cell_type": "code",
   "execution_count": 5,
   "metadata": {},
   "outputs": [
    {
     "data": {
      "text/html": [
       "<div>\n",
       "<style scoped>\n",
       "    .dataframe tbody tr th:only-of-type {\n",
       "        vertical-align: middle;\n",
       "    }\n",
       "\n",
       "    .dataframe tbody tr th {\n",
       "        vertical-align: top;\n",
       "    }\n",
       "\n",
       "    .dataframe thead th {\n",
       "        text-align: right;\n",
       "    }\n",
       "</style>\n",
       "<table border=\"1\" class=\"dataframe\">\n",
       "  <thead>\n",
       "    <tr style=\"text-align: right;\">\n",
       "      <th></th>\n",
       "      <th>Space</th>\n",
       "      <th>Price</th>\n",
       "      <th>Quantity</th>\n",
       "    </tr>\n",
       "  </thead>\n",
       "  <tbody>\n",
       "    <tr>\n",
       "      <th>count</th>\n",
       "      <td>14.000000</td>\n",
       "      <td>14.000000</td>\n",
       "      <td>14.000000</td>\n",
       "    </tr>\n",
       "    <tr>\n",
       "      <th>mean</th>\n",
       "      <td>0.342801</td>\n",
       "      <td>1880.675000</td>\n",
       "      <td>5.500000</td>\n",
       "    </tr>\n",
       "    <tr>\n",
       "      <th>std</th>\n",
       "      <td>0.296205</td>\n",
       "      <td>1493.987231</td>\n",
       "      <td>2.710379</td>\n",
       "    </tr>\n",
       "    <tr>\n",
       "      <th>min</th>\n",
       "      <td>0.000009</td>\n",
       "      <td>199.900000</td>\n",
       "      <td>2.000000</td>\n",
       "    </tr>\n",
       "    <tr>\n",
       "      <th>25%</th>\n",
       "      <td>0.045400</td>\n",
       "      <td>534.675000</td>\n",
       "      <td>4.000000</td>\n",
       "    </tr>\n",
       "    <tr>\n",
       "      <th>50%</th>\n",
       "      <td>0.345000</td>\n",
       "      <td>1599.445000</td>\n",
       "      <td>5.000000</td>\n",
       "    </tr>\n",
       "    <tr>\n",
       "      <th>75%</th>\n",
       "      <td>0.519750</td>\n",
       "      <td>2874.225000</td>\n",
       "      <td>6.750000</td>\n",
       "    </tr>\n",
       "    <tr>\n",
       "      <th>max</th>\n",
       "      <td>0.870000</td>\n",
       "      <td>4346.990000</td>\n",
       "      <td>12.000000</td>\n",
       "    </tr>\n",
       "  </tbody>\n",
       "</table>\n",
       "</div>"
      ],
      "text/plain": [
       "           Space        Price   Quantity\n",
       "count  14.000000    14.000000  14.000000\n",
       "mean    0.342801  1880.675000   5.500000\n",
       "std     0.296205  1493.987231   2.710379\n",
       "min     0.000009   199.900000   2.000000\n",
       "25%     0.045400   534.675000   4.000000\n",
       "50%     0.345000  1599.445000   5.000000\n",
       "75%     0.519750  2874.225000   6.750000\n",
       "max     0.870000  4346.990000  12.000000"
      ]
     },
     "execution_count": 5,
     "metadata": {},
     "output_type": "execute_result"
    }
   ],
   "source": [
    "data.describe()"
   ]
  },
  {
   "cell_type": "markdown",
   "metadata": {},
   "source": [
    "**Our task**: Try to solve a basic *optimization problem* with what you have learned, here is the problem. \n",
    "A van in a shop must be filled to transport household appliances, its load must be optimized by **maximizing the value of what is transported for a given volume**. You have a file with occupied space, price and quantity of certain products. You are free to test for chosen free space (volume capacity) **values between 1 and 5**."
   ]
  },
  {
   "cell_type": "code",
   "execution_count": 6,
   "metadata": {},
   "outputs": [
    {
     "data": {
      "text/plain": [
       "77"
      ]
     },
     "execution_count": 6,
     "metadata": {},
     "output_type": "execute_result"
    }
   ],
   "source": [
    "tot = np.sum(data.Quantity)\n",
    "tot"
   ]
  },
  {
   "cell_type": "markdown",
   "metadata": {},
   "source": [
    "Problem complexity: 2^77... as the video showed, a brute force algorithm could explore all combinations in a billion years.\n",
    "So we will try the Genetic Algorithms approach using pyGAD libraries."
   ]
  },
  {
   "cell_type": "markdown",
   "metadata": {},
   "source": [
    "# Step 1: Choose a genetic representation "
   ]
  },
  {
   "cell_type": "markdown",
   "metadata": {},
   "source": [
    "*Binary or not binary?*\n",
    "\n",
    "A binary representation involves the construction of arrays of length 77, it takes up *considerable space* even if we want to generate only a subset of the 2^77 possible combinations.\n",
    "- 0 : the item isn't in the van.\n",
    "- 1:  the item is in the van.\n",
    "\n",
    "I have 14 different items (Refrigerator, cell phone etc). So I create an array of length 14.\n",
    "- **0** : the item isn't in the van.\n",
    "- **1**: one item is in the van.\n",
    "- **n**: n items are in the van.\n"
   ]
  },
  {
   "cell_type": "markdown",
   "metadata": {},
   "source": [
    "## Setting Gene Space"
   ]
  },
  {
   "cell_type": "markdown",
   "metadata": {},
   "source": [
    "Each  gene can assume the value between *0 and max quantity.*"
   ]
  },
  {
   "cell_type": "code",
   "execution_count": 7,
   "metadata": {},
   "outputs": [
    {
     "data": {
      "text/plain": [
       "[[]]"
      ]
     },
     "execution_count": 7,
     "metadata": {},
     "output_type": "execute_result"
    }
   ],
   "source": [
    "gene_spaceCustom = [[]]\n",
    "gene_spaceCustom"
   ]
  },
  {
   "cell_type": "code",
   "execution_count": 8,
   "metadata": {},
   "outputs": [],
   "source": [
    "gene_spaceCustom.pop()\n",
    "gene_spaceCustom\n",
    "\n",
    "for x in data.Quantity:\n",
    "    val = x+1; # because range(0,4) means interval [0,4)\n",
    "    gene_spaceCustom.append(range(val))\n",
    "    \n",
    "#gene_spaceCustom"
   ]
  },
  {
   "cell_type": "markdown",
   "metadata": {},
   "source": [
    "## Step 2: Define fitness function"
   ]
  },
  {
   "cell_type": "markdown",
   "metadata": {},
   "source": [
    "The function return\n",
    "- n : that is the sum of product between price and quantity of the item\n",
    "- -1 : if the space of item exceed the limit"
   ]
  },
  {
   "cell_type": "code",
   "execution_count": 9,
   "metadata": {},
   "outputs": [],
   "source": [
    "#maximum capacity value\n",
    "MAXCAP = 1\n",
    "\n",
    "def fitness_function(ga_instance, solution, solution_idx):\n",
    "        sol =0\n",
    "        cap=0\n",
    "        for i in range(0,14):\n",
    "            sol += solution[i]*data.Price[i]\n",
    "            cap += solution[i]*data.Space[i]\n",
    "            if cap > MAXCAP:\n",
    "                return -1\n",
    "        return sol"
   ]
  },
  {
   "cell_type": "code",
   "execution_count": 10,
   "metadata": {},
   "outputs": [],
   "source": [
    "ga_instance = pygad.GA(num_generations=10,\n",
    "                       num_parents_mating=2,\n",
    "                       sol_per_pop= 50,\n",
    "                       num_genes=14,\n",
    "                    \n",
    "                       fitness_func=fitness_function,\n",
    "\n",
    "\n",
    "                       gene_space= gene_spaceCustom,\n",
    "                       gene_type = int)\n",
    "\n",
    "ga_instance.run()\n",
    "\n",
    "#print(ga_instance.initial_population)\n",
    "#print(ga_instance.population)"
   ]
  },
  {
   "cell_type": "code",
   "execution_count": 11,
   "metadata": {},
   "outputs": [
    {
     "name": "stdout",
     "output_type": "stream",
     "text": [
      "Parameters of the best solution : [ 2  0  4  2  3  3 12  5  7  8  1  0  1  1]\n",
      "Fitness value of the best solution = -1\n",
      "Index of the best solution : 0\n"
     ]
    }
   ],
   "source": [
    "solution, solution_fitness, solution_idx = ga_instance.best_solution()\n",
    "print(\"Parameters of the best solution : {solution}\".format(solution=solution))\n",
    "print(\"Fitness value of the best solution = {solution_fitness}\".format(solution_fitness=solution_fitness))\n",
    "print(\"Index of the best solution : {solution_idx}\".format(solution_idx=solution_idx))\n",
    "\n",
    "# best solution [ 2  0  4  2  3  3 12  5  7  8  1  0  1  1]\n",
    "#best fitness -1"
   ]
  },
  {
   "cell_type": "code",
   "execution_count": 12,
   "metadata": {},
   "outputs": [
    {
     "name": "stderr",
     "output_type": "stream",
     "text": [
      "No handles with labels found to put in legend.\n"
     ]
    },
    {
     "data": {
      "image/png": "[encoded data removed]",
      "text/plain": [
       "<Figure size 432x288 with 1 Axes>"
      ]
     },
     "metadata": {
      "needs_background": "light"
     },
     "output_type": "display_data"
    },
    {
     "data": {
      "image/png": "[encoded data removed]",
      "text/plain": [
       "<Figure size 432x288 with 1 Axes>"
      ]
     },
     "execution_count": 12,
     "metadata": {},
     "output_type": "execute_result"
    }
   ],
   "source": [
    "ga_instance.plot_fitness()"
   ]
  },
  {
   "cell_type": "markdown",
   "metadata": {},
   "source": [
    "## Observation\n",
    "We generate a population of 50 chromosome and generate 10 generation.\n",
    "All the combinations analyzed are **not valid** because out of bound.\n",
    "The subset of valid combinations is too small and our \"ecosystem\" of combination need to be helped to know the potential of each gene. If we start from a random ecosystem we risk creating a toxic environment that is too full of noise and unacceptable combinations. \n",
    "In a mathematical way we have to create a matrix where each row and column is **linearly independent**: the essence of our space."
   ]
  },
  {
   "cell_type": "markdown",
   "metadata": {},
   "source": [
    "# Step 3: a User defined initial population"
   ]
  },
  {
   "cell_type": "code",
   "execution_count": 13,
   "metadata": {},
   "outputs": [],
   "source": [
    "ipop = [[ 1,  0,  0,  0,  0,  0, 0,  0,  0,  0,  0,  0,  0,  0],\n",
    "       [ 0,  1,  0,  0,  0,  0, 0,  0,  0,  0,  0,  0,  0,  0],\n",
    "       [ 0,  0,  1,  0,  0,  0, 0,  0,  0,  0,  0,  0,  0,  0],\n",
    "       [ 0,  0,  0,  1,  0,  0, 0,  0,  0,  0,  0,  0,  0,  0],\n",
    "       [ 0,  0,  0,  0,  1,  0, 0,  0,  0,  0,  0,  0,  0,  0],\n",
    "       [ 0,  0,  0,  0,  0,  1, 0,  0,  0,  0,  0,  0,  0,  0],\n",
    "       [ 0,  0,  0,  0,  0,  0, 1,  0,  0,  0,  0,  0,  0,  0],\n",
    "       [ 0,  0,  0,  0,  0,  0, 0,  1,  0,  0,  0,  0,  0,  0],\n",
    "       [ 0,  0,  0,  0,  0,  0, 0,  0,  1,  0,  0,  0,  0,  0],\n",
    "       [ 0,  0,  0,  0,  0,  0, 0,  0,  0,  1,  0,  0,  0,  0],\n",
    "       [ 0,  0,  0,  0,  0,  0, 0,  0,  0,  0,  1,  0,  0,  0],\n",
    "       [ 0,  0,  0,  0,  0,  0, 0,  0,  0,  0,  0,  1,  0,  0],\n",
    "       [ 0,  0,  0,  0,  0,  0, 0,  0,  0,  0,  0,  0,  1,  0],\n",
    "       [ 0,  0,  0,  0,  0,  0, 0,  0,  0,  0,  0,  0,  0,  1]]"
   ]
  },
  {
   "cell_type": "code",
   "execution_count": 14,
   "metadata": {},
   "outputs": [
    {
     "name": "stdout",
     "output_type": "stream",
     "text": [
      "[[0 2 0 0 3 4 0 3 3 0 0 0 0 0]\n",
      " [0 2 0 0 3 1 0 3 3 0 0 0 0 0]\n",
      " [0 0 0 0 3 0 0 3 3 0 0 0 0 0]\n",
      " [0 2 0 0 3 4 0 3 3 0 1 0 0 0]\n",
      " [0 0 0 0 3 4 0 3 3 0 0 2 0 0]\n",
      " [0 2 0 0 3 4 0 3 3 0 0 2 0 0]\n",
      " [0 0 0 0 3 4 0 3 3 0 0 0 0 3]\n",
      " [0 2 0 0 3 4 0 6 3 0 0 0 0 0]\n",
      " [0 0 0 0 3 4 0 3 3 0 0 0 1 0]\n",
      " [0 0 0 5 3 4 0 3 3 0 0 0 0 0]\n",
      " [0 0 0 0 3 4 0 3 4 0 0 0 0 0]\n",
      " [0 2 0 0 3 4 0 3 3 0 2 0 0 0]\n",
      " [0 0 0 0 3 4 0 3 3 0 0 0 0 2]\n",
      " [0 2 0 0 3 4 0 3 3 0 0 0 0 0]]\n"
     ]
    }
   ],
   "source": [
    "ga_instance = pygad.GA(num_generations=10,\n",
    "                       num_parents_mating=2,\n",
    "                       sol_per_pop= 14,\n",
    "                       num_genes=14,\n",
    "                       initial_population= ipop,\n",
    "                    \n",
    "                       fitness_func=fitness_function,\n",
    "\n",
    "                       gene_space= gene_spaceCustom,\n",
    "                       gene_type = int)\n",
    "\n",
    "ga_instance.run()\n",
    "\n",
    "#print(ga_instance.initial_population)\n",
    "print(ga_instance.population)"
   ]
  },
  {
   "cell_type": "code",
   "execution_count": 15,
   "metadata": {},
   "outputs": [
    {
     "name": "stdout",
     "output_type": "stream",
     "text": [
      "Parameters of the best solution : [0 2 0 0 3 4 0 3 3 0 0 0 0 0]\n",
      "Fitness value of the best solution = 25610.52\n",
      "Index of the best solution : 0\n"
     ]
    }
   ],
   "source": [
    "solution, solution_fitness, solution_idx = ga_instance.best_solution()\n",
    "print(\"Parameters of the best solution : {solution}\".format(solution=solution))\n",
    "print(\"Fitness value of the best solution = {solution_fitness}\".format(solution_fitness=solution_fitness))\n",
    "print(\"Index of the best solution : {solution_idx}\".format(solution_idx=solution_idx))"
   ]
  },
  {
   "cell_type": "code",
   "execution_count": 16,
   "metadata": {},
   "outputs": [
    {
     "name": "stderr",
     "output_type": "stream",
     "text": [
      "No handles with labels found to put in legend.\n"
     ]
    },
    {
     "data": {
      "image/png": "[encoded data removed]",
      "text/plain": [
       "<Figure size 432x288 with 1 Axes>"
      ]
     },
     "metadata": {
      "needs_background": "light"
     },
     "output_type": "display_data"
    },
    {
     "data": {
      "image/png": "[encoded data removed]",
      "text/plain": [
       "<Figure size 432x288 with 1 Axes>"
      ]
     },
     "execution_count": 16,
     "metadata": {},
     "output_type": "execute_result"
    }
   ],
   "source": [
    "ga_instance.plot_fitness()"
   ]
  },
  {
   "cell_type": "markdown",
   "metadata": {},
   "source": [
    "## Perfecting evolution\n",
    "1. Avoid random mutation and using the simplest crossover: mutation can increase noise and the simplest crossover can slowly teach the system to evolve. "
   ]
  },
  {
   "cell_type": "code",
   "execution_count": 17,
   "metadata": {},
   "outputs": [
    {
     "name": "stdout",
     "output_type": "stream",
     "text": [
      "[[0 2 1 0 0 0 0 0 0 0 0 0 0 0]\n",
      " [0 2 1 0 0 0 0 0 3 0 0 0 0 0]\n",
      " [0 0 0 5 0 0 0 0 0 0 0 0 0 0]\n",
      " [0 2 1 0 0 0 0 0 7 0 2 0 0 0]\n",
      " [0 0 0 1 0 0 0 0 0 0 0 0 0 4]\n",
      " [0 0 0 1 0 0 0 7 7 0 0 0 0 0]\n",
      " [0 0 0 1 0 0 0 0 0 0 0 0 0 6]\n",
      " [0 2 1 0 0 0 0 0 7 0 1 0 0 0]\n",
      " [0 0 0 0 0 0 0 0 0 0 0 0 0 4]\n",
      " [0 2 1 0 0 0 0 4 7 0 0 0 0 0]\n",
      " [0 0 1 0 3 0 0 0 0 0 0 0 0 0]\n",
      " [0 2 1 0 0 0 0 0 0 0 0 2 0 0]\n",
      " [0 0 0 0 0 0 0 0 0 0 0 2 0 0]\n",
      " [0 1 1 0 0 0 0 0 0 0 0 0 0 0]]\n"
     ]
    }
   ],
   "source": [
    "#maximum capacity value\n",
    "MAXCAP = 1\n",
    "\n",
    "def fitness_function(ga_instance, solution, solution_idx):\n",
    "        sol =0\n",
    "        cap=0\n",
    "        for i in range(0,14):\n",
    "            sol += solution[i]*data.Price[i]\n",
    "            cap += solution[i]*data.Space[i]\n",
    "            if cap > MAXCAP:\n",
    "                return -1\n",
    "        return sol\n",
    "    \n",
    "ga_instance = pygad.GA(num_generations=2,\n",
    "                       num_parents_mating=2,\n",
    "                       sol_per_pop= 14,\n",
    "                       num_genes=14,\n",
    "                       initial_population= ipop,\n",
    "                    \n",
    "                       fitness_func=fitness_function,\n",
    "\n",
    "                       gene_space= gene_spaceCustom,\n",
    "                      \n",
    "                      crossover_type = \"single_point\",\n",
    "                      mutation_probability = None,\n",
    "                       \n",
    "                      gene_type = int)\n",
    "                      \n",
    "\n",
    "ga_instance.run()\n",
    "\n",
    "#print(ga_instance.initial_population)\n",
    "print(ga_instance.population)"
   ]
  },
  {
   "cell_type": "code",
   "execution_count": 18,
   "metadata": {},
   "outputs": [
    {
     "name": "stdout",
     "output_type": "stream",
     "text": [
      "Parameters of the best solution : [0 0 1 0 3 0 0 0 0 0 0 0 0 0]\n",
      "Fitness value of the best solution = 13343.99\n",
      "Index of the best solution : 10\n"
     ]
    }
   ],
   "source": [
    "solution, solution_fitness, solution_idx = ga_instance.best_solution()\n",
    "print(\"Parameters of the best solution : {solution}\".format(solution=solution))\n",
    "print(\"Fitness value of the best solution = {solution_fitness}\".format(solution_fitness=solution_fitness))\n",
    "print(\"Index of the best solution : {solution_idx}\".format(solution_idx=solution_idx))\n",
    "#best solution [0 0 1 0 3 0 0 0 0 0 0 0 0 0]\n",
    "#best fitness 13343.99"
   ]
  },
  {
   "cell_type": "code",
   "execution_count": 19,
   "metadata": {},
   "outputs": [
    {
     "name": "stderr",
     "output_type": "stream",
     "text": [
      "No handles with labels found to put in legend.\n"
     ]
    },
    {
     "data": {
      "image/png": "[encoded data removed]",
      "text/plain": [
       "<Figure size 432x288 with 1 Axes>"
      ]
     },
     "metadata": {
      "needs_background": "light"
     },
     "output_type": "display_data"
    },
    {
     "data": {
      "image/png": "[encoded data removed]",
      "text/plain": [
       "<Figure size 432x288 with 1 Axes>"
      ]
     },
     "execution_count": 19,
     "metadata": {},
     "output_type": "execute_result"
    }
   ],
   "source": [
    "ga_instance.plot_fitness()"
   ]
  },
  {
   "cell_type": "markdown",
   "metadata": {},
   "source": [
    "## Increasing generations"
   ]
  },
  {
   "cell_type": "code",
   "execution_count": 20,
   "metadata": {},
   "outputs": [
    {
     "name": "stdout",
     "output_type": "stream",
     "text": [
      "[[0 2 1 1 0 4 0 0 3 4 0 0 0 0]\n",
      " [0 2 1 1 0 4 0 0 7 4 0 0 0 0]\n",
      " [0 2 1 1 0 4 0 0 0 4 0 0 0 1]\n",
      " [0 2 1 1 0 1 0 0 0 0 0 0 0 0]\n",
      " [0 2 1 1 0 4 0 0 0 0 0 0 0 6]\n",
      " [0 2 1 1 0 4 0 0 0 0 0 1 0 0]\n",
      " [0 2 1 1 3 4 0 0 0 0 0 0 0 0]\n",
      " [0 2 1 1 0 4 0 0 3 4 0 0 3 0]\n",
      " [0 2 1 1 0 4 9 0 3 4 0 0 0 0]\n",
      " [0 2 3 1 0 4 0 0 0 0 0 0 0 0]\n",
      " [0 2 1 1 0 1 0 0 3 4 0 0 0 0]\n",
      " [0 2 1 1 1 4 0 0 3 0 0 0 0 0]\n",
      " [0 2 1 1 0 4 0 7 3 4 0 0 0 0]\n",
      " [0 2 1 1 0 4 5 0 0 0 0 0 0 0]]\n"
     ]
    }
   ],
   "source": [
    "#maximum capacity value\n",
    "MAXCAP = 1\n",
    "\n",
    "def fitness_function(ga_instance, solution, solution_idx):\n",
    "        sol =0\n",
    "        cap=0\n",
    "        for i in range(0,14):\n",
    "            sol += solution[i]*data.Price[i]\n",
    "            cap += solution[i]*data.Space[i]\n",
    "            if cap > MAXCAP:\n",
    "                return -1\n",
    "        return sol\n",
    "ga_instance = pygad.GA(num_generations=100,\n",
    "                       num_parents_mating=2,\n",
    "                       sol_per_pop= 14,\n",
    "                       num_genes=14,\n",
    "                       initial_population= ipop,\n",
    "                    \n",
    "                       fitness_func=fitness_function,\n",
    "\n",
    "                       gene_space= gene_spaceCustom,\n",
    "                      \n",
    "                      crossover_type = \"single_point\",\n",
    "                      mutation_probability = None,\n",
    "                       \n",
    "                      gene_type = int)\n",
    "                      \n",
    "\n",
    "ga_instance.run()\n",
    "\n",
    "#print(ga_instance.initial_population)\n",
    "print(ga_instance.population)"
   ]
  },
  {
   "cell_type": "code",
   "execution_count": 21,
   "metadata": {},
   "outputs": [
    {
     "name": "stdout",
     "output_type": "stream",
     "text": [
      "Parameters of the best solution : [0 2 1 1 0 4 0 0 3 4 0 0 0 0]\n",
      "Fitness value of the best solution = 25231.59\n",
      "Index of the best solution : 0\n"
     ]
    }
   ],
   "source": [
    "solution, solution_fitness, solution_idx = ga_instance.best_solution()\n",
    "print(\"Parameters of the best solution : {solution}\".format(solution=solution))\n",
    "print(\"Fitness value of the best solution = {solution_fitness}\".format(solution_fitness=solution_fitness))\n",
    "print(\"Index of the best solution : {solution_idx}\".format(solution_idx=solution_idx))\n",
    "\n",
    "#best solution [0 2 1 1 0 4 0 0 3 4 0 0 0 0]\n",
    "#best fitness 25231.59"
   ]
  },
  {
   "cell_type": "code",
   "execution_count": 22,
   "metadata": {},
   "outputs": [
    {
     "name": "stderr",
     "output_type": "stream",
     "text": [
      "No handles with labels found to put in legend.\n"
     ]
    },
    {
     "data": {
      "image/png": "[encoded data removed]",
      "text/plain": [
       "<Figure size 432x288 with 1 Axes>"
      ]
     },
     "metadata": {
      "needs_background": "light"
     },
     "output_type": "display_data"
    },
    {
     "data": {
      "image/png": "[encoded data removed]",
      "text/plain": [
       "<Figure size 432x288 with 1 Axes>"
      ]
     },
     "execution_count": 22,
     "metadata": {},
     "output_type": "execute_result"
    }
   ],
   "source": [
    "ga_instance.plot_fitness()"
   ]
  },
  {
   "cell_type": "code",
   "execution_count": 238,
   "metadata": {},
   "outputs": [],
   "source": [
    "# Saving the GA instance.\n",
    "filename = 'geneticTestCanale' # The filename to which the instance is saved. The name is without extension.\n",
    "ga_instance.save(filename=filename)"
   ]
  },
  {
   "cell_type": "markdown",
   "metadata": {},
   "source": [
    "# Conclusion"
   ]
  },
  {
   "cell_type": "markdown",
   "metadata": {},
   "source": [
    "*Is our combination the optimal one?*\n",
    "We don't know, the only thing we know is that the optimal solution found is the best among those found. \n",
    "Adding generations did not change the result, but we cannot know whether chance could have generated a better combination.\n",
    "\n",
    "So we put in the initial population the best solution and introduce a **random mutation** and **two points** crossover because, as Niezschete said, *One must have chaos in oneself to give birth to a dancing star*. "
   ]
  },
  {
   "cell_type": "code",
   "execution_count": 241,
   "metadata": {},
   "outputs": [
    {
     "data": {
      "text/plain": [
       "[[1, 0, 0, 0, 0, 0, 0, 0, 0, 0, 0, 0, 0, 0],\n",
       " [0, 1, 0, 0, 0, 0, 0, 0, 0, 0, 0, 0, 0, 0],\n",
       " [0, 0, 1, 0, 0, 0, 0, 0, 0, 0, 0, 0, 0, 0],\n",
       " [0, 0, 0, 1, 0, 0, 0, 0, 0, 0, 0, 0, 0, 0],\n",
       " [0, 0, 0, 0, 1, 0, 0, 0, 0, 0, 0, 0, 0, 0],\n",
       " [0, 0, 0, 0, 0, 1, 0, 0, 0, 0, 0, 0, 0, 0],\n",
       " [0, 0, 0, 0, 0, 0, 1, 0, 0, 0, 0, 0, 0, 0],\n",
       " [0, 0, 0, 0, 0, 0, 0, 1, 0, 0, 0, 0, 0, 0],\n",
       " [0, 0, 0, 0, 0, 0, 0, 0, 1, 0, 0, 0, 0, 0],\n",
       " [0, 0, 0, 0, 0, 0, 0, 0, 0, 1, 0, 0, 0, 0],\n",
       " [0, 0, 0, 0, 0, 0, 0, 0, 0, 0, 1, 0, 0, 0],\n",
       " [0, 0, 0, 0, 0, 0, 0, 0, 0, 0, 0, 1, 0, 0],\n",
       " [0, 0, 0, 0, 0, 0, 0, 0, 0, 0, 0, 0, 1, 0],\n",
       " [0, 0, 0, 0, 0, 0, 0, 0, 0, 0, 0, 0, 0, 1],\n",
       " array([0, 2, 0, 3, 0, 4, 0, 1, 0, 2, 0, 0, 0, 0])]"
      ]
     },
     "execution_count": 241,
     "metadata": {},
     "output_type": "execute_result"
    }
   ],
   "source": [
    "ipop.append(solution)\n",
    "ipop"
   ]
  },
  {
   "cell_type": "code",
   "execution_count": 263,
   "metadata": {},
   "outputs": [],
   "source": [
    "#maximum capacity value\n",
    "MAXCAP = 1\n",
    "\n",
    "def fitness_function(ga_instance, solution, solution_idx):\n",
    "        sol =0\n",
    "        cap=0\n",
    "        for i in range(0,14):\n",
    "            sol += solution[i]*data.Price[i]\n",
    "            cap += solution[i]*data.Space[i]\n",
    "            if cap > MAXCAP:\n",
    "                return -1\n",
    "        return sol\n",
    "ga_instance = pygad.GA(num_generations=10000,\n",
    "                       num_parents_mating=2,\n",
    "                       sol_per_pop= 14,\n",
    "                       num_genes=14,\n",
    "                       initial_population= ipop,\n",
    "                    \n",
    "                       fitness_func=fitness_function,\n",
    "\n",
    "                       gene_space= gene_spaceCustom,\n",
    "                      \n",
    "                      crossover_type = \"two_points\",\n",
    "                      mutation_type = 'random',\n",
    "                       \n",
    "                      gene_type = int)\n",
    "                      \n",
    "\n",
    "ga_instance.run()\n",
    "\n",
    "#print(ga_instance.initial_population)\n",
    "#print(ga_instance.population)"
   ]
  },
  {
   "cell_type": "code",
   "execution_count": 264,
   "metadata": {},
   "outputs": [
    {
     "name": "stdout",
     "output_type": "stream",
     "text": [
      "Parameters of the best solution : [0 2 0 0 4 4 0 0 1 4 0 0 0 0]\n",
      "Fitness value of the best solution = 28020.899999999998\n",
      "Index of the best solution : 0\n"
     ]
    }
   ],
   "source": [
    "solution, solution_fitness, solution_idx = ga_instance.best_solution()\n",
    "print(\"Parameters of the best solution : {solution}\".format(solution=solution))\n",
    "print(\"Fitness value of the best solution = {solution_fitness}\".format(solution_fitness=solution_fitness))\n",
    "print(\"Index of the best solution : {solution_idx}\".format(solution_idx=solution_idx))\n",
    "#best solution [0 2 0 0 4 4 0 0 1 4 0 0 0 0]\n",
    "#best fitness 28020.899999999998"
   ]
  },
  {
   "cell_type": "code",
   "execution_count": 265,
   "metadata": {},
   "outputs": [
    {
     "name": "stderr",
     "output_type": "stream",
     "text": [
      "WARNING:matplotlib.legend:No handles with labels found to put in legend.\n"
     ]
    },
    {
     "data": {
      "image/png": "[encoded data removed]",
      "text/plain": [
       "<Figure size 432x288 with 1 Axes>"
      ]
     },
     "metadata": {
      "needs_background": "light"
     },
     "output_type": "display_data"
    },
    {
     "data": {
      "image/png": "[encoded data removed]",
      "text/plain": [
       "<Figure size 432x288 with 1 Axes>"
      ]
     },
     "execution_count": 265,
     "metadata": {},
     "output_type": "execute_result"
    }
   ],
   "source": [
    "ga_instance.plot_fitness()"
   ]
  },
  {
   "cell_type": "markdown",
   "metadata": {},
   "source": [
    "## We have find a better solution!"
   ]
  },
  {
   "cell_type": "markdown",
   "metadata": {},
   "source": [
    "We don't use parallel programming because  it is not convenient in terms of time if the fitness function is simple.\n"
   ]
  },
  {
   "cell_type": "code",
   "execution_count": 268,
   "metadata": {},
   "outputs": [],
   "source": [
    "# Saving the GA instance.\n",
    "filename = 'geneticTestCanale_improved' # The filename to which the instance is saved. The name is without extension.\n",
    "ga_instance.save(filename=filename)"
   ]
  },
  {
   "cell_type": "code",
   "execution_count": null,
   "metadata": {},
   "outputs": [],
   "source": []
  }
 ],
 "metadata": {
  "kernelspec": {
   "display_name": "Python 3",
   "language": "python",
   "name": "python3"
  },
  "language_info": {
   "codemirror_mode": {
    "name": "ipython",
    "version": 3
   },
   "file_extension": ".py",
   "mimetype": "text/x-python",
   "name": "python",
   "nbconvert_exporter": "python",
   "pygments_lexer": "ipython3",
   "version": "3.8.3"
  }
 },
 "nbformat": 4,
 "nbformat_minor": 4
}
